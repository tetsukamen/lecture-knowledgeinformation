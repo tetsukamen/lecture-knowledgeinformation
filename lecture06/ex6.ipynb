{
 "cells": [
  {
   "cell_type": "markdown",
   "metadata": {},
   "source": [
    "## 知識情報学第6回演習サンプルプログラム ex6.ipynb\n",
    "- Programmed by Wu Hongle, 監修　福井健一\n",
    "- Last updated: 2019/09/02\n",
    "- Checked with Python 3.8.8, scikit-learn 1.0\n",
    "- MIT Lisence\n",
    "\n",
    "## SVMによるBreast Cancerデータの識別\n",
    "- 入れ子交差検証で最適パラメータを探索"
   ]
  },
  {
   "cell_type": "code",
   "execution_count": 23,
   "metadata": {},
   "outputs": [],
   "source": [
    "import numpy as np\n",
    "from sklearn.svm import SVC\n",
    "from sklearn.datasets import load_breast_cancer\n",
    "from sklearn.model_selection import StratifiedKFold, GridSearchCV\n",
    "from sklearn.preprocessing import scale\n",
    "import optuna\n",
    "optuna.logging.disable_default_handler()"
   ]
  },
  {
   "cell_type": "markdown",
   "metadata": {},
   "source": [
    "### Breast Cancerデータのロード"
   ]
  },
  {
   "cell_type": "code",
   "execution_count": 4,
   "metadata": {},
   "outputs": [],
   "source": [
    "df = load_breast_cancer()\n",
    "X = df.data\n",
    "y = df.target\n",
    "\n",
    "# z標準化\n",
    "X = scale(X)"
   ]
  },
  {
   "cell_type": "code",
   "execution_count": 5,
   "metadata": {},
   "outputs": [
    {
     "name": "stdout",
     "output_type": "stream",
     "text": [
      ".. _breast_cancer_dataset:\n",
      "\n",
      "Breast cancer wisconsin (diagnostic) dataset\n",
      "--------------------------------------------\n",
      "\n",
      "**Data Set Characteristics:**\n",
      "\n",
      "    :Number of Instances: 569\n",
      "\n",
      "    :Number of Attributes: 30 numeric, predictive attributes and the class\n",
      "\n",
      "    :Attribute Information:\n",
      "        - radius (mean of distances from center to points on the perimeter)\n",
      "        - texture (standard deviation of gray-scale values)\n",
      "        - perimeter\n",
      "        - area\n",
      "        - smoothness (local variation in radius lengths)\n",
      "        - compactness (perimeter^2 / area - 1.0)\n",
      "        - concavity (severity of concave portions of the contour)\n",
      "        - concave points (number of concave portions of the contour)\n",
      "        - symmetry\n",
      "        - fractal dimension (\"coastline approximation\" - 1)\n",
      "\n",
      "        The mean, standard error, and \"worst\" or largest (mean of the three\n",
      "        worst/largest values) of these features were computed for each image,\n",
      "        resulting in 30 features.  For instance, field 0 is Mean Radius, field\n",
      "        10 is Radius SE, field 20 is Worst Radius.\n",
      "\n",
      "        - class:\n",
      "                - WDBC-Malignant\n",
      "                - WDBC-Benign\n",
      "\n",
      "    :Summary Statistics:\n",
      "\n",
      "    ===================================== ====== ======\n",
      "                                           Min    Max\n",
      "    ===================================== ====== ======\n",
      "    radius (mean):                        6.981  28.11\n",
      "    texture (mean):                       9.71   39.28\n",
      "    perimeter (mean):                     43.79  188.5\n",
      "    area (mean):                          143.5  2501.0\n",
      "    smoothness (mean):                    0.053  0.163\n",
      "    compactness (mean):                   0.019  0.345\n",
      "    concavity (mean):                     0.0    0.427\n",
      "    concave points (mean):                0.0    0.201\n",
      "    symmetry (mean):                      0.106  0.304\n",
      "    fractal dimension (mean):             0.05   0.097\n",
      "    radius (standard error):              0.112  2.873\n",
      "    texture (standard error):             0.36   4.885\n",
      "    perimeter (standard error):           0.757  21.98\n",
      "    area (standard error):                6.802  542.2\n",
      "    smoothness (standard error):          0.002  0.031\n",
      "    compactness (standard error):         0.002  0.135\n",
      "    concavity (standard error):           0.0    0.396\n",
      "    concave points (standard error):      0.0    0.053\n",
      "    symmetry (standard error):            0.008  0.079\n",
      "    fractal dimension (standard error):   0.001  0.03\n",
      "    radius (worst):                       7.93   36.04\n",
      "    texture (worst):                      12.02  49.54\n",
      "    perimeter (worst):                    50.41  251.2\n",
      "    area (worst):                         185.2  4254.0\n",
      "    smoothness (worst):                   0.071  0.223\n",
      "    compactness (worst):                  0.027  1.058\n",
      "    concavity (worst):                    0.0    1.252\n",
      "    concave points (worst):               0.0    0.291\n",
      "    symmetry (worst):                     0.156  0.664\n",
      "    fractal dimension (worst):            0.055  0.208\n",
      "    ===================================== ====== ======\n",
      "\n",
      "    :Missing Attribute Values: None\n",
      "\n",
      "    :Class Distribution: 212 - Malignant, 357 - Benign\n",
      "\n",
      "    :Creator:  Dr. William H. Wolberg, W. Nick Street, Olvi L. Mangasarian\n",
      "\n",
      "    :Donor: Nick Street\n",
      "\n",
      "    :Date: November, 1995\n",
      "\n",
      "This is a copy of UCI ML Breast Cancer Wisconsin (Diagnostic) datasets.\n",
      "https://goo.gl/U2Uwz2\n",
      "\n",
      "Features are computed from a digitized image of a fine needle\n",
      "aspirate (FNA) of a breast mass.  They describe\n",
      "characteristics of the cell nuclei present in the image.\n",
      "\n",
      "Separating plane described above was obtained using\n",
      "Multisurface Method-Tree (MSM-T) [K. P. Bennett, \"Decision Tree\n",
      "Construction Via Linear Programming.\" Proceedings of the 4th\n",
      "Midwest Artificial Intelligence and Cognitive Science Society,\n",
      "pp. 97-101, 1992], a classification method which uses linear\n",
      "programming to construct a decision tree.  Relevant features\n",
      "were selected using an exhaustive search in the space of 1-4\n",
      "features and 1-3 separating planes.\n",
      "\n",
      "The actual linear program used to obtain the separating plane\n",
      "in the 3-dimensional space is that described in:\n",
      "[K. P. Bennett and O. L. Mangasarian: \"Robust Linear\n",
      "Programming Discrimination of Two Linearly Inseparable Sets\",\n",
      "Optimization Methods and Software 1, 1992, 23-34].\n",
      "\n",
      "This database is also available through the UW CS ftp server:\n",
      "\n",
      "ftp ftp.cs.wisc.edu\n",
      "cd math-prog/cpo-dataset/machine-learn/WDBC/\n",
      "\n",
      "|details-start|\n",
      "**References**\n",
      "|details-split|\n",
      "\n",
      "- W.N. Street, W.H. Wolberg and O.L. Mangasarian. Nuclear feature extraction \n",
      "  for breast tumor diagnosis. IS&T/SPIE 1993 International Symposium on \n",
      "  Electronic Imaging: Science and Technology, volume 1905, pages 861-870,\n",
      "  San Jose, CA, 1993.\n",
      "- O.L. Mangasarian, W.N. Street and W.H. Wolberg. Breast cancer diagnosis and \n",
      "  prognosis via linear programming. Operations Research, 43(4), pages 570-577, \n",
      "  July-August 1995.\n",
      "- W.H. Wolberg, W.N. Street, and O.L. Mangasarian. Machine learning techniques\n",
      "  to diagnose breast cancer from fine-needle aspirates. Cancer Letters 77 (1994) \n",
      "  163-171.\n",
      "\n",
      "|details-end|\n"
     ]
    }
   ],
   "source": [
    "print(df.DESCR)"
   ]
  },
  {
   "cell_type": "markdown",
   "metadata": {},
   "source": [
    "### 入れ子交差検証でハイパーパラメータを最適化\n",
    "- 【課題1】探索するパラメータにカーネル関数の追加や範囲を変更して最適パラメータを探してみましょう\n",
    "    - グリッドサーチパラメータリストの書き方は下記を参照\n",
    "        - https://scikit-learn.org/stable/modules/grid_search.html#grid-search\n",
    "    - SVCの可能なパラメータリストは下記を参照\n",
    "        - https://scikit-learn.org/stable/modules/generated/sklearn.svm.SVC.html#sklearn.svm.SVC\n",
    "- 【課題2】Optunaを利用してハイパーパラメータを最適化し，グリッドサーチと比較してみましょう．\n",
    "    - Optuna: https://optuna.org\n",
    "    - 使い方は，Code Exmaplesを参照\n",
    "    - グリッドサーチ同様に入れ子の交差検証を用いること\n",
    "    - optunaでパラメータの生成範囲指定は下記を参照（関数 suggest_***）\n",
    "        - https://optuna.readthedocs.io/en/stable/reference/generated/optuna.trial.Trial.html#optuna.trial.Trial\n",
    "- 【課題3】最適なカーネル関数およびハイパーパラメータ，そこから分かるデータの特徴について考察してみましょう．"
   ]
  },
  {
   "cell_type": "markdown",
   "metadata": {},
   "source": [
    "### 課題１\n",
    "グリッドサーチするパラメータにC、kernelを追加"
   ]
  },
  {
   "cell_type": "code",
   "execution_count": 26,
   "metadata": {
    "scrolled": true
   },
   "outputs": [
    {
     "name": "stdout",
     "output_type": "stream",
     "text": [
      "Fold # 1; Best Parameter: {'C': 10, 'gamma': 0.02, 'kernel': 'rbf'}, Accuracy: 0.979\n",
      "Fold # 2; Best Parameter: {'C': 0.1, 'gamma': 0.01, 'kernel': 'linear'}, Accuracy: 0.971\n",
      "Fold # 3; Best Parameter: {'C': 0.1, 'gamma': 0.01, 'kernel': 'linear'}, Accuracy: 0.973\n",
      "Fold # 4; Best Parameter: {'C': 1, 'gamma': 0.01, 'kernel': 'linear'}, Accuracy: 0.973\n",
      "Fold # 5; Best Parameter: {'C': 0.1, 'gamma': 0.01, 'kernel': 'linear'}, Accuracy: 0.973\n",
      "Fold # 6; Best Parameter: {'C': 0.1, 'gamma': 0.01, 'kernel': 'linear'}, Accuracy: 0.979\n",
      "Fold # 7; Best Parameter: {'C': 10, 'gamma': 0.01, 'kernel': 'rbf'}, Accuracy: 0.979\n",
      "Fold # 8; Best Parameter: {'C': 0.1, 'gamma': 0.01, 'kernel': 'linear'}, Accuracy: 0.975\n",
      "Fold # 9; Best Parameter: {'C': 10, 'gamma': 0.01, 'kernel': 'rbf'}, Accuracy: 0.975\n",
      "Fold #10; Best Parameter: {'C': 10, 'gamma': 0.02, 'kernel': 'rbf'}, Accuracy: 0.975\n"
     ]
    }
   ],
   "source": [
    "# 外側ループのための交差検証用データ生成インスタンス\n",
    "kfold = StratifiedKFold(n_splits=10, shuffle=True, random_state=1)\n",
    "\n",
    "acc_trn_list = []  # 外側ループのfold毎の学習データに対するaccuracy格納用\n",
    "acc_tst_list = []  # 外側ループのfold毎のテストデータに対するaccuracy格納用\n",
    "\n",
    "# グリッドサーチのパラメータリスト\n",
    "parameters = {\n",
    "    \"gamma\": [0.01, 0.02, 0.05, 0.1, 0, 2, 1, 10, 100],\n",
    "    \"C\": [0.1, 1, 10, 100, 1000],\n",
    "    \"kernel\": [\"linear\", \"rbf\", \"poly\", \"sigmoid\"]\n",
    "}\n",
    "# 内側ループでグリッドサーチを行う交差検証インスタンス\n",
    "gs = GridSearchCV(SVC(), parameters, cv=2)\n",
    "\n",
    "k = 0\n",
    "for train_itr, test_itr in kfold.split(X, y):\n",
    "    # 内側ループのグリッドサーチ\n",
    "    gs.fit(X[train_itr], y[train_itr])\n",
    "    print(\n",
    "        \"Fold #{:2d}; Best Parameter: {}, Accuracy: {:.3f}\".format(\n",
    "            k + 1, gs.best_params_, gs.best_score_\n",
    "        )\n",
    "    )\n",
    "    acc_trn_list.append(gs.score(X[train_itr], y[train_itr]))\n",
    "    acc_tst_list.append(gs.score(X[test_itr], y[test_itr]))\n",
    "    k = k + 1"
   ]
  },
  {
   "cell_type": "markdown",
   "metadata": {},
   "source": [
    "### 平均Accuracy"
   ]
  },
  {
   "cell_type": "code",
   "execution_count": 27,
   "metadata": {},
   "outputs": [
    {
     "name": "stdout",
     "output_type": "stream",
     "text": [
      "Training data: 0.987\n",
      "Test data: 0.977\n"
     ]
    }
   ],
   "source": [
    "print('Training data: %1.3f' % np.mean(acc_trn_list))\n",
    "print('Test data: %1.3f' % np.mean(acc_tst_list))"
   ]
  },
  {
   "cell_type": "markdown",
   "metadata": {},
   "source": [
    "### 課題２\n",
    "optunaを使用してパラメータ最適化"
   ]
  },
  {
   "cell_type": "code",
   "execution_count": 28,
   "metadata": {},
   "outputs": [
    {
     "name": "stdout",
     "output_type": "stream",
     "text": [
      "Fold # 1; Best Parameter: {'gamma': 0.040022185204178294, 'C': 0.33694021541730657, 'kernel': 'linear'}, Accuracy: 0.973\n",
      "Fold # 2; Best Parameter: {'gamma': 6.52928601005033, 'C': 0.23308089156493642, 'kernel': 'linear'}, Accuracy: 0.973\n",
      "Fold # 3; Best Parameter: {'gamma': 0.048381266242251884, 'C': 0.3232370135971585, 'kernel': 'sigmoid'}, Accuracy: 0.971\n",
      "Fold # 4; Best Parameter: {'gamma': 18.798661416403412, 'C': 0.4213597259874516, 'kernel': 'linear'}, Accuracy: 0.973\n",
      "Fold # 5; Best Parameter: {'gamma': 0.01062584478600713, 'C': 0.1837458915873546, 'kernel': 'linear'}, Accuracy: 0.975\n",
      "Fold # 6; Best Parameter: {'gamma': 22.832029550440073, 'C': 0.2524741851247946, 'kernel': 'linear'}, Accuracy: 0.971\n",
      "Fold # 7; Best Parameter: {'gamma': 64.39204156010764, 'C': 826.8667966851684, 'kernel': 'linear'}, Accuracy: 0.951\n",
      "Fold # 8; Best Parameter: {'gamma': 0.951781678534629, 'C': 4.0411046114555065, 'kernel': 'linear'}, Accuracy: 0.963\n",
      "Fold # 9; Best Parameter: {'gamma': 0.6667977408997192, 'C': 0.6838747279820143, 'kernel': 'linear'}, Accuracy: 0.979\n",
      "Fold #10; Best Parameter: {'gamma': 6.756059542190874, 'C': 0.45895157492661204, 'kernel': 'linear'}, Accuracy: 0.977\n"
     ]
    }
   ],
   "source": [
    "# 外側ループのための交差検証用データ生成インスタンス\n",
    "kfold = StratifiedKFold(n_splits=10, shuffle=True, random_state=1)\n",
    "\n",
    "acc_trn_list = []  # 外側ループのfold毎の学習データに対するaccuracy格納用\n",
    "acc_tst_list = []  # 外側ループのfold毎のテストデータに対するaccuracy格納用\n",
    "\n",
    "k = 0\n",
    "for train_itr, test_itr in kfold.split(X, y):\n",
    "    X_inr = X[train_itr]\n",
    "    y_inr = y[train_itr]\n",
    "\n",
    "    def objective(trial):\n",
    "        # define the hyperparameters to optimize\n",
    "        gamma = trial.suggest_float(\"gamma\", 1e-2, 1e2, log=True)\n",
    "        C = trial.suggest_float(\"C\", 1e-1, 1e3, log=True)\n",
    "        kernel = trial.suggest_categorical(\n",
    "            \"kernel\", [\"linear\", \"rbf\", \"poly\", \"sigmoid\"]\n",
    "        )\n",
    "\n",
    "        # create the SVM model with the hyperparameters\n",
    "        model = SVC(C=C, gamma=gamma, kernel=kernel)\n",
    "\n",
    "        # perform cross-validation and return the mean accuracy\n",
    "        kfold_inr = StratifiedKFold(n_splits=2, shuffle=True, random_state=1)\n",
    "        acc_list = []\n",
    "        for train_itr_inr, test_itr_inr in kfold_inr.split(X_inr, y_inr):\n",
    "            model.fit(X_inr[train_itr_inr], y_inr[train_itr_inr])\n",
    "            acc_list.append(model.score(X_inr[test_itr_inr], y_inr[test_itr_inr]))\n",
    "        return np.mean(acc_list)\n",
    "\n",
    "    study = optuna.create_study(direction=\"maximize\")\n",
    "    study.optimize(objective, n_trials=180)\n",
    "    print(\n",
    "        \"Fold #{:2d}; Best Parameter: {}, Accuracy: {:.3f}\".format(\n",
    "            k + 1, study.best_trial.params, study.best_value\n",
    "        )\n",
    "    )\n",
    "    model = SVC(**study.best_trial.params)\n",
    "    model.fit(X[train_itr], y[train_itr])\n",
    "    acc_trn_list.append(model.score(X[train_itr], y[train_itr]))\n",
    "    acc_tst_list.append(model.score(X[test_itr], y[test_itr]))\n",
    "    k = k + 1"
   ]
  },
  {
   "cell_type": "code",
   "execution_count": 22,
   "metadata": {},
   "outputs": [
    {
     "name": "stdout",
     "output_type": "stream",
     "text": [
      "Training data: 0.984\n",
      "Test data: 0.974\n"
     ]
    }
   ],
   "source": [
    "print('Training data: %1.3f' % np.mean(acc_trn_list))\n",
    "print('Test data: %1.3f' % np.mean(acc_tst_list))"
   ]
  },
  {
   "cell_type": "markdown",
   "metadata": {},
   "source": [
    "### 課題３\n",
    "- Cは比較的小さいことからある程度誤分類を許すモデルになっており、マージン内にある程度データが位置していることが予想される\n",
    "- 多くのfoldで最適なカーネルはlinearとなったことから、高次元空間へ写像せずとも分離しやすいシンプルな分布であると予想される"
   ]
  }
 ],
 "metadata": {
  "kernelspec": {
   "display_name": "Python 3 (ipykernel)",
   "language": "python",
   "name": "python3"
  },
  "language_info": {
   "codemirror_mode": {
    "name": "ipython",
    "version": 3
   },
   "file_extension": ".py",
   "mimetype": "text/x-python",
   "name": "python",
   "nbconvert_exporter": "python",
   "pygments_lexer": "ipython3",
   "version": "3.11.4"
  }
 },
 "nbformat": 4,
 "nbformat_minor": 2
}
